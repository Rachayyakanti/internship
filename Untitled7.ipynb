{
 "cells": [
  {
   "cell_type": "markdown",
   "id": "3bfc2ada",
   "metadata": {},
   "source": [
    "# Regular Expression in Python"
   ]
  },
  {
   "cell_type": "code",
   "execution_count": 1,
   "id": "d4f996db",
   "metadata": {},
   "outputs": [],
   "source": [
    "import pandas as pd"
   ]
  },
  {
   "cell_type": "code",
   "execution_count": 2,
   "id": "37378ae8",
   "metadata": {},
   "outputs": [],
   "source": [
    "import re"
   ]
  },
  {
   "cell_type": "code",
   "execution_count": 3,
   "id": "3ff2b65a",
   "metadata": {},
   "outputs": [],
   "source": [
    "import regex as re"
   ]
  },
  {
   "cell_type": "code",
   "execution_count": 4,
   "id": "3617ca5d",
   "metadata": {},
   "outputs": [],
   "source": [
    "#print(help(re))"
   ]
  },
  {
   "cell_type": "code",
   "execution_count": 5,
   "id": "f7feb0a0",
   "metadata": {},
   "outputs": [
    {
     "name": "stdout",
     "output_type": "stream",
     "text": [
      "A,ASCII,B,BESTMATCH,D,DEBUG,DEFAULT_VERSION,DOTALL,E,ENHANCEMATCH,F,FULLCASE,I,IGNORECASE,L,LOCALE,M,MULTILINE,Match,P,POSIX,Pattern,R,REVERSE,Regex,RegexFlag,S,Scanner,T,TEMPLATE,U,UNICODE,V0,V1,VERBOSE,VERSION0,VERSION1,W,WORD,X,__all__,__builtins__,__cached__,__doc__,__file__,__loader__,__name__,__package__,__path__,__spec__,__version__,_regex,_regex_core,cache_all,compile,error,escape,findall,finditer,fullmatch,match,purge,regex,search,split,splititer,sub,subf,subfn,subn,template,"
     ]
    }
   ],
   "source": [
    "for i in dir(re):\n",
    "    print(i,end=\",\")"
   ]
  },
  {
   "cell_type": "code",
   "execution_count": 6,
   "id": "1ebd1240",
   "metadata": {},
   "outputs": [
    {
     "name": "stdout",
     "output_type": "stream",
     "text": [
      "71\n"
     ]
    }
   ],
   "source": [
    "print(len(dir(re)))"
   ]
  },
  {
   "cell_type": "markdown",
   "id": "989499ee",
   "metadata": {},
   "source": [
    "Metacharacters"
   ]
  },
  {
   "cell_type": "code",
   "execution_count": 7,
   "id": "80a58356",
   "metadata": {},
   "outputs": [],
   "source": [
    "pattern=\"Ram$\"\n",
    "string=\"Lord Ram\"\n"
   ]
  },
  {
   "cell_type": "code",
   "execution_count": 13,
   "id": "a534aaf1",
   "metadata": {},
   "outputs": [
    {
     "name": "stdout",
     "output_type": "stream",
     "text": [
      "['H', 'o', ' ', 'D', 't', ' ', 's', 'n', ' ', '1']\n"
     ]
    }
   ],
   "source": [
    "string1=\"Hello Data science 1\"\n",
    "x=re.findall(\"[^a-m]\",string1)\n",
    "print(x)"
   ]
  },
  {
   "cell_type": "code",
   "execution_count": 17,
   "id": "dd0c0fff",
   "metadata": {},
   "outputs": [
    {
     "name": "stdout",
     "output_type": "stream",
     "text": [
      "['e', 'l', 'l', 'a', 'a', 'c', 'i', 'e', 'c', 'e']\n"
     ]
    }
   ],
   "source": [
    "string1=\"Hello Data Science\"\n",
    "x=re.findall(\"[a-m]\",string1)\n",
    "print(x)"
   ]
  },
  {
   "cell_type": "code",
   "execution_count": 22,
   "id": "59ff4167",
   "metadata": {},
   "outputs": [
    {
     "name": "stdout",
     "output_type": "stream",
     "text": [
      "['e', 'l', 'l', 'o', 'a', 'a', 'd', 'c', 'i', 'e', 'n', 'c', 'e']\n"
     ]
    }
   ],
   "source": [
    "string1=\"Hello Data dB Science1\"\n",
    "x=re.findall(\"[a-p]\",string1)\n",
    "print(x)"
   ]
  },
  {
   "cell_type": "markdown",
   "id": "d975ae5a",
   "metadata": {},
   "source": [
    "# Findall"
   ]
  },
  {
   "cell_type": "code",
   "execution_count": 29,
   "id": "b9ac60d4",
   "metadata": {},
   "outputs": [],
   "source": [
    "#sytax.re.findall(pattern, target_string"
   ]
  },
  {
   "cell_type": "code",
   "execution_count": 30,
   "id": "6cb66100",
   "metadata": {},
   "outputs": [
    {
     "name": "stdout",
     "output_type": "stream",
     "text": [
      "['Data science ', 'stram', 'AI', 'Data science ', 'tools']\n"
     ]
    }
   ],
   "source": [
    "import re\n",
    "\n",
    "pattern = \"Data science |stram|tools|AI\"\n",
    "text = \"Data science is a stram and it is a part of AI.you can solve many complexproblems using Data science tools and techs\"\n",
    "\n",
    "matches = re.findall(pattern,text)\n",
    "print(matches)"
   ]
  },
  {
   "cell_type": "markdown",
   "id": "3e94f42b",
   "metadata": {},
   "source": [
    "# Extracting digits from a string:"
   ]
  },
  {
   "cell_type": "markdown",
   "id": "b80ff74b",
   "metadata": {},
   "source": [
    "write a regular expression for to search digits a string"
   ]
  },
  {
   "cell_type": "code",
   "execution_count": 34,
   "id": "6e444047",
   "metadata": {},
   "outputs": [
    {
     "ename": "SyntaxError",
     "evalue": "invalid syntax (1942848793.py, line 1)",
     "output_type": "error",
     "traceback": [
      "\u001b[1;36m  Cell \u001b[1;32mIn[34], line 1\u001b[1;36m\u001b[0m\n\u001b[1;33m    This code findall sequences of digits within the text.it will print['123','456']\u001b[0m\n\u001b[1;37m         ^\u001b[0m\n\u001b[1;31mSyntaxError\u001b[0m\u001b[1;31m:\u001b[0m invalid syntax\n"
     ]
    }
   ],
   "source": [
    "This code findall sequences of digits within the text.it will print['123','456']\n"
   ]
  },
  {
   "cell_type": "code",
   "execution_count": 44,
   "id": "3e340a9a",
   "metadata": {},
   "outputs": [
    {
     "name": "stdout",
     "output_type": "stream",
     "text": [
      "['123', '456']\n"
     ]
    }
   ],
   "source": [
    "pattern =\"\\d+\"\n",
    "text =\"Threre are 123 apples and 456 oranges.\"\n",
    "\n",
    "matches = re.findall(pattern,text)\n",
    "print(matches)"
   ]
  },
  {
   "cell_type": "code",
   "execution_count": 53,
   "id": "1941f0bb",
   "metadata": {},
   "outputs": [
    {
     "name": "stdout",
     "output_type": "stream",
     "text": [
      "['T', 'h', 'e', 'r', 'e', ' ', 'a', 'r', 'e', ' ', ' ', 'a', 'p', 'p', 'l', 'e', 's', ' ', 'a', 'n', 'd', ' ', ' ', 'o', 'r', 'a', 'n', 'g', 'e', 's', '.']\n"
     ]
    }
   ],
   "source": [
    "pattern = \"\\D\"\n",
    "text = \"There are 123 apples and 456 oranges.\"\n",
    "\n",
    "matches = re.findall(pattern, text)\n",
    "print(matches)"
   ]
  },
  {
   "cell_type": "code",
   "execution_count": 54,
   "id": "ea016d9e",
   "metadata": {},
   "outputs": [
    {
     "name": "stdout",
     "output_type": "stream",
     "text": [
      "['123', '456']\n"
     ]
    }
   ],
   "source": [
    "pattern =\"[0-9]+\"\n",
    "text = \"There are 123 apples and 456 oranges.\"\n",
    "\n",
    "matches = re.findall(pattern,text)\n",
    "print(matches)"
   ]
  },
  {
   "cell_type": "code",
   "execution_count": 55,
   "id": "f3180190",
   "metadata": {},
   "outputs": [
    {
     "name": "stdout",
     "output_type": "stream",
     "text": [
      "['123', '456', '0']\n"
     ]
    }
   ],
   "source": [
    "pattern=\"[0-9]+\"\n",
    "matches=re.findall(pattern,'abc123xyz456_0')\n",
    "print(matches)"
   ]
  },
  {
   "cell_type": "code",
   "execution_count": 57,
   "id": "789e10d1",
   "metadata": {},
   "outputs": [
    {
     "name": "stdout",
     "output_type": "stream",
     "text": [
      "['1', '2', '3', '4', '5', '6', '0']\n"
     ]
    }
   ],
   "source": [
    "pattern=\"[0-9]\"\n",
    "matches=re.findall(pattern,'abc123xyz456_0')\n",
    "print(matches)"
   ]
  },
  {
   "cell_type": "code",
   "execution_count": 58,
   "id": "8a300fa7",
   "metadata": {},
   "outputs": [
    {
     "name": "stdout",
     "output_type": "stream",
     "text": [
      "['50']\n",
      "['60']\n",
      "['150']\n"
     ]
    }
   ],
   "source": [
    "# Exreacting digits from a list of string\n",
    "price = ['Apple costs Rs 50','Rs 60 for each pineapple','Rs 150 per watermilon']\n",
    "for msg in price:\n",
    "    matches = re.findall(\"\\d+\",msg)\n",
    "    print(matches)"
   ]
  },
  {
   "cell_type": "code",
   "execution_count": 76,
   "id": "f405c9b9",
   "metadata": {},
   "outputs": [
    {
     "name": "stdout",
     "output_type": "stream",
     "text": [
      "Match object:  ['Indian', 'aeros1', '23pace', 'scient', 'Missil']\n"
     ]
    }
   ],
   "source": [
    "target_string = \"APJ Abdul Kalam was an Indian aeros123pace scientst also known as the Missile Man of India\"\n",
    "result = re.findall(r\"\\w{6}\",target_string)\n",
    "\n",
    "print(\"Match object: \", result)\n"
   ]
  },
  {
   "cell_type": "code",
   "execution_count": 75,
   "id": "d9b38092",
   "metadata": {},
   "outputs": [
    {
     "name": "stdout",
     "output_type": "stream",
     "text": [
      "Match object:  ['Abdu', 'Kala', 'indi', 'aero', 'spac', 'scie', 'ntis', 'also', 'know', 'Miss', 'Indi']\n"
     ]
    }
   ],
   "source": [
    "target_string = \"APJ Abdul Kalam was an indian aerospace scientist also known as the Missile Man of India #@,\"\n",
    "result = re.findall(r\"\\w{4}\", target_string)\n",
    "\n",
    "\n",
    "print (\"Match object: \",result)"
   ]
  },
  {
   "cell_type": "code",
   "execution_count": 79,
   "id": "5ec784e7",
   "metadata": {},
   "outputs": [
    {
     "name": "stdout",
     "output_type": "stream",
     "text": [
      "match object:  ['Abdul', 'Kalam', 'Indian', 'aerosp', 'scient', 'also', 'known', 'missil', 'india']\n"
     ]
    }
   ],
   "source": [
    "target_string=\"APJ Abdul Kalam was an Indian aerospace scientist also known as missile man of india\"\n",
    "result = re.findall(r\"\\w{4,6}\",target_string)\n",
    "\n",
    "print(\"match object: \",result)"
   ]
  },
  {
   "cell_type": "code",
   "execution_count": 81,
   "id": "a65ba95b",
   "metadata": {},
   "outputs": [
    {
     "name": "stdout",
     "output_type": "stream",
     "text": [
      "[]\n"
     ]
    }
   ],
   "source": [
    "#Extracing string which begins with A and ends with J or sring lenth begins with 1 from the given string.\n",
    "import re \n",
    "sring = \"APJ Abdul Kalam was an Indian scientist also known as the missile man of Indian \"\n",
    "pattern = 'A[a-zA-Z]+J|A[\\w]+1'\n",
    "\n",
    "result = re.findall (pattern, string)\n",
    "print(result)"
   ]
  },
  {
   "cell_type": "markdown",
   "id": "96b9447a",
   "metadata": {},
   "source": [
    "# Split"
   ]
  },
  {
   "cell_type": "code",
   "execution_count": 85,
   "id": "d99bb271",
   "metadata": {},
   "outputs": [
    {
     "name": "stdout",
     "output_type": "stream",
     "text": [
      "['Twelve:', ' Eighty nine:', '.']\n"
     ]
    }
   ],
   "source": [
    "#sytax- re.slpit(pattern, targetstring, maxsplit)\n",
    "\n",
    "\n",
    "string = 'Twelve:12 Eighty nine:89.'\n",
    "pattern = '\\d+'\n",
    "\n",
    "result = re.split(pattern,string)\n",
    "print(result)\n"
   ]
  },
  {
   "cell_type": "code",
   "execution_count": 86,
   "id": "9b39778e",
   "metadata": {},
   "outputs": [
    {
     "name": "stdout",
     "output_type": "stream",
     "text": [
      "['India', 'is', 'a', 'beautiful', 'country']\n"
     ]
    }
   ],
   "source": [
    "# split at each white-space character (\\s is split by space)\n",
    "text = \"India is a beautiful country\"\n",
    "x = re.split(\"\\s\",text)\n",
    "print(x)\n"
   ]
  },
  {
   "cell_type": "code",
   "execution_count": 90,
   "id": "d280613a",
   "metadata": {},
   "outputs": [
    {
     "name": "stdout",
     "output_type": "stream",
     "text": [
      "['How', 'is', 'this possibe']\n"
     ]
    }
   ],
   "source": [
    "# start spliiting by position\n",
    "split_by_position = \"How is this possibe\"\n",
    "x = re.split(\"\\s\",split_by_position, 2)\n",
    "print(x)"
   ]
  },
  {
   "cell_type": "markdown",
   "id": "7a641563",
   "metadata": {},
   "source": [
    "# Limit the number of splits"
   ]
  },
  {
   "cell_type": "code",
   "execution_count": 91,
   "id": "b5198c95",
   "metadata": {},
   "outputs": [
    {
     "name": "stdout",
     "output_type": "stream",
     "text": [
      "['12', '45+78']\n"
     ]
    }
   ],
   "source": [
    "target_string = \"12-45+78\"\n",
    "\n",
    "result = re.split(r\"\\D\", target_string,maxsplit=1)  #split only on the first occurence\n",
    "\n",
    "print(result)"
   ]
  },
  {
   "cell_type": "code",
   "execution_count": 99,
   "id": "fd371996",
   "metadata": {},
   "outputs": [
    {
     "ename": "NameError",
     "evalue": "name 'taget_string' is not defined",
     "output_type": "error",
     "traceback": [
      "\u001b[1;31m---------------------------------------------------------------------------\u001b[0m",
      "\u001b[1;31mNameError\u001b[0m                                 Traceback (most recent call last)",
      "Cell \u001b[1;32mIn[99], line 2\u001b[0m\n\u001b[0;32m      1\u001b[0m target_string \u001b[38;5;241m=\u001b[39m\u001b[38;5;124m\"\u001b[39m\u001b[38;5;124m12-45+78_75\u001b[39m\u001b[38;5;124m\"\u001b[39m\n\u001b[1;32m----> 2\u001b[0m result \u001b[38;5;241m=\u001b[39m re\u001b[38;5;241m.\u001b[39msplit(\u001b[38;5;124mr\u001b[39m\u001b[38;5;124m\"\u001b[39m\u001b[38;5;124m\\\u001b[39m\u001b[38;5;124mD\u001b[39m\u001b[38;5;124m\"\u001b[39m, taget_string, maxsplit\u001b[38;5;241m=\u001b[39m\u001b[38;5;241m2\u001b[39m)  \u001b[38;5;66;03m# split on the three occurrence\u001b[39;00m\n\u001b[0;32m      4\u001b[0m \u001b[38;5;28mprint\u001b[39m(result)\n",
      "\u001b[1;31mNameError\u001b[0m: name 'taget_string' is not defined"
     ]
    }
   ],
   "source": [
    "target_string =\"12-45+78_75\"\n",
    "result = re.split(r\"\\D\", taget_string, maxsplit=2)  # split on the three occurrence\n",
    "\n",
    "print(result)"
   ]
  },
  {
   "cell_type": "markdown",
   "id": "290f1b4e",
   "metadata": {},
   "source": [
    "# sub"
   ]
  },
  {
   "cell_type": "code",
   "execution_count": 98,
   "id": "57d7b898",
   "metadata": {},
   "outputs": [],
   "source": [
    "#sytax= re.sub(pattern, replacement, string, flags)"
   ]
  },
  {
   "cell_type": "code",
   "execution_count": 101,
   "id": "7520ef23",
   "metadata": {},
   "outputs": [
    {
     "name": "stdout",
     "output_type": "stream",
     "text": [
      "This====function====replaces====spaces====by====assigned====char\n"
     ]
    }
   ],
   "source": [
    "sub_= \"This function replaces spaces by assigned char\"\n",
    "x = re.sub(\"\\s\",\"====\",sub_)\n",
    "print(x)"
   ]
  },
  {
   "cell_type": "code",
   "execution_count": 102,
   "id": "c908feaa",
   "metadata": {},
   "outputs": [
    {
     "name": "stdout",
     "output_type": "stream",
     "text": [
      "This Item cost $ 2500 and rS 3000\n"
     ]
    }
   ],
   "source": [
    "y = 'Rs'\n",
    "text = \"This Item cost Rs 2500 and rS 3000\"\n",
    "\n",
    "replaced_text = re.sub(y,\"$\",text)\n",
    "print(replaced_text)"
   ]
  },
  {
   "cell_type": "code",
   "execution_count": 103,
   "id": "4efc411d",
   "metadata": {},
   "outputs": [
    {
     "name": "stdout",
     "output_type": "stream",
     "text": [
      "This Item costs $ 2500 and $ 3000\n"
     ]
    }
   ],
   "source": [
    "y = 'Rs'\n",
    "text = \"This Item costs Rs 2500 and rS 3000\"\n",
    "\n",
    "replaced_text =re.sub(y, \"$\", text, flags=re.IGNORECASE)\n",
    "print(replaced_text)"
   ]
  },
  {
   "cell_type": "code",
   "execution_count": 105,
   "id": "fe2ca722",
   "metadata": {},
   "outputs": [
    {
     "name": "stdout",
     "output_type": "stream",
     "text": [
      "APJAbdulKalamwasanindiaaerospacescientistalsoknownasmissilemanofindia\n"
     ]
    }
   ],
   "source": [
    "target_string = \"APJ Abdul Kalam was   an india aerospace scientist also known as missile man of india\"\n",
    "\n",
    "res_str =re.sub(r\"\\s+\", \"\", target_string)   #Remove all spaces,including single or multiplespaces ( pattern to remove \\s+ )\n",
    "print(res_str)\n"
   ]
  },
  {
   "cell_type": "code",
   "execution_count": 106,
   "id": "b500a037",
   "metadata": {},
   "outputs": [
    {
     "name": "stdout",
     "output_type": "stream",
     "text": [
      "  APJ Abdul Kalam was an Indian aerospace scientist also known  as the missile man of india  \n"
     ]
    }
   ],
   "source": [
    "target_string = \"  APJ Abdul Kalam was an Indian aerospace scientist also known  as the missile man of india  \"\n",
    "print(target_string)"
   ]
  },
  {
   "cell_type": "code",
   "execution_count": null,
   "id": "1f6dfcb1",
   "metadata": {},
   "outputs": [],
   "source": []
  }
 ],
 "metadata": {
  "kernelspec": {
   "display_name": "Python 3 (ipykernel)",
   "language": "python",
   "name": "python3"
  },
  "language_info": {
   "codemirror_mode": {
    "name": "ipython",
    "version": 3
   },
   "file_extension": ".py",
   "mimetype": "text/x-python",
   "name": "python",
   "nbconvert_exporter": "python",
   "pygments_lexer": "ipython3",
   "version": "3.11.5"
  }
 },
 "nbformat": 4,
 "nbformat_minor": 5
}
